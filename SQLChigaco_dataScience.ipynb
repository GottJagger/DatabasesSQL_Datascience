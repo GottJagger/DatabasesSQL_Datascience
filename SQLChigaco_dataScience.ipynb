{
 "cells": [
  {
   "cell_type": "markdown",
   "metadata": {},
   "source": [
    "<h3>se comienza a desarrollar el proyecto y se que se necesita crear la base de datos de la situiacion en Chicago</h3>"
   ]
  },
  {
   "cell_type": "code",
   "execution_count": 20,
   "metadata": {},
   "outputs": [
    {
     "name": "stdout",
     "output_type": "stream",
     "text": [
      "(('chicago_crime',), ('chicago_public_schools',), ('chicago_socioeconomic_data',))\n"
     ]
    }
   ],
   "source": [
    "import MySQLdb\n",
    "\n",
    "db=MySQLdb.connect(host=\"localhost\"\n",
    "                ,port=3306,\n",
    "                user=\"chaki\"\n",
    "                ,password=\"timecha12\"\n",
    "                ,database=\"Mysql_Learners\")\n",
    "\n",
    "cursor = db.cursor()\n",
    "\n",
    "cursor.execute(\" TABLES;\") # ejecuta sentencia SQL\n",
    "data = cursor.fetchall() # recupera primer registro\n",
    "print(data)\n",
    "\n",
    "\n",
    "db.close()\n"
   ]
  },
  {
   "cell_type": "code",
   "execution_count": null,
   "metadata": {},
   "outputs": [],
   "source": []
  }
 ],
 "metadata": {
  "interpreter": {
   "hash": "916dbcbb3f70747c44a77c7bcd40155683ae19c65e1c03b4aa3499c5328201f1"
  },
  "kernelspec": {
   "display_name": "Python 3.8.10 64-bit",
   "language": "python",
   "name": "python3"
  },
  "language_info": {
   "codemirror_mode": {
    "name": "ipython",
    "version": 3
   },
   "file_extension": ".py",
   "mimetype": "text/x-python",
   "name": "python",
   "nbconvert_exporter": "python",
   "pygments_lexer": "ipython3",
   "version": "3.8.10"
  },
  "orig_nbformat": 4
 },
 "nbformat": 4,
 "nbformat_minor": 2
}
